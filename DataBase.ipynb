{
 "cells": [
  {
   "cell_type": "code",
   "execution_count": null,
   "id": "7c6654f3",
   "metadata": {},
   "outputs": [],
   "source": [
    "import mysql.connector\n",
    "\n",
    "# Connect to MySQL database\n",
    "conn = mysql.connector.connect(\n",
    "    host=\"localhost\",\n",
    "    user=\"root\",\n",
    "    password=\"root\",\n",
    "    database=\"extraction\"\n",
    ")\n",
    "cursor = conn.cursor()\n",
    "\n",
    "# Insert admin user\n",
    "admin_username = \"admin\"\n",
    "admin_password = \"admin\"  # Use bcrypt to hash password before inserting\n",
    "\n",
    "# Hash password using bcrypt\n",
    "import bcrypt\n",
    "hashed_password = bcrypt.hashpw(admin_password.encode('utf-8'), bcrypt.gensalt()).decode('utf-8')\n",
    "\n",
    "# SQL Insert Query\n",
    "insert_query = \"\"\"\n",
    "INSERT INTO admin (username, password) \n",
    "VALUES (%s, %s)\n",
    "\"\"\"\n",
    "\n",
    "# Execute Query\n",
    "cursor.execute(insert_query, (admin_username, hashed_password))\n",
    "conn.commit()\n",
    "\n",
    "# Verify Insert\n",
    "cursor.execute(\"SELECT * FROM admin WHERE username = %s\", (admin_username,))\n",
    "admin_user = cursor.fetchone()\n",
    "\n",
    "# Close Connection\n",
    "cursor.close()\n",
    "conn.close()\n",
    "\n",
    "# Display inserted admin user\n",
    "admin_user\n"
   ]
  },
  {
   "cell_type": "code",
   "execution_count": 7,
   "id": "4006a59d-6120-4641-b35c-b710afc57259",
   "metadata": {},
   "outputs": [
    {
     "name": "stdout",
     "output_type": "stream",
     "text": [
      "Collecting mysql-connector-pythonNote: you may need to restart the kernel to use updated packages.\n"
     ]
    },
    {
     "name": "stderr",
     "output_type": "stream",
     "text": [
      "\n",
      "[notice] A new release of pip is available: 24.1.2 -> 25.0.1\n",
      "[notice] To update, run: C:\\Users\\NIHARIKA\\anaconda3\\python.exe -m pip install --upgrade pip\n"
     ]
    },
    {
     "name": "stdout",
     "output_type": "stream",
     "text": [
      "\n",
      "  Downloading mysql_connector_python-9.2.0-cp311-cp311-win_amd64.whl.metadata (6.2 kB)\n",
      "Downloading mysql_connector_python-9.2.0-cp311-cp311-win_amd64.whl (16.1 MB)\n",
      "   ---------------------------------------- 0.0/16.1 MB ? eta -:--:--\n",
      "   ---------------------------------------- 0.1/16.1 MB 2.3 MB/s eta 0:00:07\n",
      "   ---------------------------------------- 0.2/16.1 MB 2.5 MB/s eta 0:00:07\n",
      "    --------------------------------------- 0.3/16.1 MB 2.0 MB/s eta 0:00:09\n",
      "    --------------------------------------- 0.4/16.1 MB 2.1 MB/s eta 0:00:08\n",
      "   - -------------------------------------- 0.5/16.1 MB 2.6 MB/s eta 0:00:07\n",
      "   - -------------------------------------- 0.7/16.1 MB 2.6 MB/s eta 0:00:06\n",
      "   - -------------------------------------- 0.7/16.1 MB 2.5 MB/s eta 0:00:07\n",
      "   -- ------------------------------------- 0.8/16.1 MB 2.4 MB/s eta 0:00:07\n",
      "   -- ------------------------------------- 1.0/16.1 MB 2.6 MB/s eta 0:00:06\n",
      "   -- ------------------------------------- 1.1/16.1 MB 2.5 MB/s eta 0:00:06\n",
      "   --- ------------------------------------ 1.4/16.1 MB 2.7 MB/s eta 0:00:06\n",
      "   --- ------------------------------------ 1.5/16.1 MB 2.9 MB/s eta 0:00:06\n",
      "   --- ------------------------------------ 1.6/16.1 MB 2.7 MB/s eta 0:00:06\n",
      "   ---- ----------------------------------- 1.8/16.1 MB 2.9 MB/s eta 0:00:06\n",
      "   ---- ----------------------------------- 2.0/16.1 MB 2.9 MB/s eta 0:00:05\n",
      "   ---- ----------------------------------- 2.0/16.1 MB 2.9 MB/s eta 0:00:05\n",
      "   ----- ---------------------------------- 2.1/16.1 MB 2.7 MB/s eta 0:00:06\n",
      "   ----- ---------------------------------- 2.1/16.1 MB 2.6 MB/s eta 0:00:06\n",
      "   ----- ---------------------------------- 2.3/16.1 MB 2.7 MB/s eta 0:00:06\n",
      "   ----- ---------------------------------- 2.3/16.1 MB 2.7 MB/s eta 0:00:06\n",
      "   ----- ---------------------------------- 2.3/16.1 MB 2.5 MB/s eta 0:00:06\n",
      "   ------ --------------------------------- 2.6/16.1 MB 2.6 MB/s eta 0:00:06\n",
      "   ------ --------------------------------- 2.8/16.1 MB 2.7 MB/s eta 0:00:06\n",
      "   ------- -------------------------------- 2.9/16.1 MB 2.7 MB/s eta 0:00:05\n",
      "   ------- -------------------------------- 3.1/16.1 MB 2.7 MB/s eta 0:00:05\n",
      "   -------- ------------------------------- 3.4/16.1 MB 2.9 MB/s eta 0:00:05\n",
      "   -------- ------------------------------- 3.6/16.1 MB 2.9 MB/s eta 0:00:05\n",
      "   --------- ------------------------------ 3.9/16.1 MB 3.0 MB/s eta 0:00:05\n",
      "   ---------- ----------------------------- 4.1/16.1 MB 3.1 MB/s eta 0:00:04\n",
      "   ---------- ----------------------------- 4.2/16.1 MB 3.1 MB/s eta 0:00:04\n",
      "   ---------- ----------------------------- 4.3/16.1 MB 3.1 MB/s eta 0:00:04\n",
      "   ---------- ----------------------------- 4.3/16.1 MB 3.1 MB/s eta 0:00:04\n",
      "   ----------- ---------------------------- 4.5/16.1 MB 3.0 MB/s eta 0:00:04\n",
      "   ----------- ---------------------------- 4.6/16.1 MB 3.0 MB/s eta 0:00:04\n",
      "   ----------- ---------------------------- 4.8/16.1 MB 3.0 MB/s eta 0:00:04\n",
      "   ------------ --------------------------- 4.9/16.1 MB 3.0 MB/s eta 0:00:04\n",
      "   ------------ --------------------------- 5.0/16.1 MB 3.0 MB/s eta 0:00:04\n",
      "   ------------ --------------------------- 5.2/16.1 MB 3.0 MB/s eta 0:00:04\n",
      "   ------------- -------------------------- 5.3/16.1 MB 3.0 MB/s eta 0:00:04\n",
      "   ------------- -------------------------- 5.6/16.1 MB 3.1 MB/s eta 0:00:04\n",
      "   -------------- ------------------------- 5.8/16.1 MB 3.1 MB/s eta 0:00:04\n",
      "   -------------- ------------------------- 5.8/16.1 MB 3.0 MB/s eta 0:00:04\n",
      "   -------------- ------------------------- 6.0/16.1 MB 3.1 MB/s eta 0:00:04\n",
      "   ---------------- ----------------------- 6.5/16.1 MB 3.2 MB/s eta 0:00:04\n",
      "   ---------------- ----------------------- 6.5/16.1 MB 3.2 MB/s eta 0:00:04\n",
      "   ---------------- ----------------------- 6.8/16.1 MB 3.3 MB/s eta 0:00:03\n",
      "   ----------------- ---------------------- 7.2/16.1 MB 3.3 MB/s eta 0:00:03\n",
      "   ------------------ --------------------- 7.5/16.1 MB 3.4 MB/s eta 0:00:03\n",
      "   ------------------- -------------------- 7.9/16.1 MB 3.5 MB/s eta 0:00:03\n",
      "   ------------------- -------------------- 8.0/16.1 MB 3.5 MB/s eta 0:00:03\n",
      "   -------------------- ------------------- 8.3/16.1 MB 3.5 MB/s eta 0:00:03\n",
      "   -------------------- ------------------- 8.4/16.1 MB 3.5 MB/s eta 0:00:03\n",
      "   --------------------- ------------------ 8.7/16.1 MB 3.6 MB/s eta 0:00:03\n",
      "   --------------------- ------------------ 8.8/16.1 MB 3.6 MB/s eta 0:00:03\n",
      "   ---------------------- ----------------- 9.0/16.1 MB 3.6 MB/s eta 0:00:02\n",
      "   ---------------------- ----------------- 9.2/16.1 MB 3.6 MB/s eta 0:00:02\n",
      "   ----------------------- ---------------- 9.4/16.1 MB 3.6 MB/s eta 0:00:02\n",
      "   ------------------------ --------------- 9.9/16.1 MB 3.7 MB/s eta 0:00:02\n",
      "   ------------------------ --------------- 9.9/16.1 MB 3.7 MB/s eta 0:00:02\n",
      "   ------------------------- -------------- 10.1/16.1 MB 3.7 MB/s eta 0:00:02\n",
      "   -------------------------- ------------- 10.5/16.1 MB 3.8 MB/s eta 0:00:02\n",
      "   -------------------------- ------------- 10.6/16.1 MB 3.8 MB/s eta 0:00:02\n",
      "   --------------------------- ------------ 11.0/16.1 MB 4.0 MB/s eta 0:00:02\n",
      "   ---------------------------- ----------- 11.3/16.1 MB 4.1 MB/s eta 0:00:02\n",
      "   ---------------------------- ----------- 11.4/16.1 MB 4.1 MB/s eta 0:00:02\n",
      "   ---------------------------- ----------- 11.5/16.1 MB 4.0 MB/s eta 0:00:02\n",
      "   ----------------------------- ---------- 11.8/16.1 MB 4.1 MB/s eta 0:00:02\n",
      "   ------------------------------ --------- 12.3/16.1 MB 4.4 MB/s eta 0:00:01\n",
      "   ------------------------------- -------- 12.6/16.1 MB 4.7 MB/s eta 0:00:01\n",
      "   ------------------------------- -------- 12.7/16.1 MB 4.6 MB/s eta 0:00:01\n",
      "   -------------------------------- ------- 13.3/16.1 MB 4.7 MB/s eta 0:00:01\n",
      "   ---------------------------------- ----- 13.9/16.1 MB 4.9 MB/s eta 0:00:01\n",
      "   ---------------------------------- ----- 14.1/16.1 MB 4.9 MB/s eta 0:00:01\n",
      "   ----------------------------------- ---- 14.3/16.1 MB 4.9 MB/s eta 0:00:01\n",
      "   ------------------------------------ --- 14.7/16.1 MB 5.2 MB/s eta 0:00:01\n",
      "   ------------------------------------- -- 14.9/16.1 MB 5.4 MB/s eta 0:00:01\n",
      "   ------------------------------------- -- 15.1/16.1 MB 5.5 MB/s eta 0:00:01\n",
      "   -------------------------------------- - 15.4/16.1 MB 5.5 MB/s eta 0:00:01\n",
      "   ---------------------------------------  15.9/16.1 MB 5.7 MB/s eta 0:00:01\n",
      "   ---------------------------------------  16.1/16.1 MB 5.9 MB/s eta 0:00:01\n",
      "   ---------------------------------------- 16.1/16.1 MB 5.8 MB/s eta 0:00:00\n",
      "Installing collected packages: mysql-connector-python\n",
      "Successfully installed mysql-connector-python-9.2.0\n"
     ]
    }
   ],
   "source": [
    "pip install mysql-connector-python\n"
   ]
  },
  {
   "cell_type": "code",
   "execution_count": 6,
   "id": "dea4c820",
   "metadata": {},
   "outputs": [
    {
     "ename": "SyntaxError",
     "evalue": "invalid syntax (1686388820.py, line 1)",
     "output_type": "error",
     "traceback": [
      "\u001b[1;36m  Cell \u001b[1;32mIn[6], line 1\u001b[1;36m\u001b[0m\n\u001b[1;33m    <!-- Management Section\u001b[0m\n\u001b[1;37m    ^\u001b[0m\n\u001b[1;31mSyntaxError\u001b[0m\u001b[1;31m:\u001b[0m invalid syntax\n"
     ]
    }
   ],
   "source": [
    "<!-- Management Section \n",
    "    <div class=\"row mt-5 text-center\">\n",
    "        <div class=\"col-md-3\">\n",
    "            <a href=\"{{ url_for('admin.manage_users') }}\" class=\"btn btn-primary w-100\">Manage Users</a>\n",
    "        </div>\n",
    "        <div class=\"col-md-3\">\n",
    "            <a href=\"{{ url_for('admin.manage_jobs') }}\" class=\"btn btn-primary w-100\">Manage Jobs</a>\n",
    "        </div>\n",
    "        <div class=\"col-md-3\">\n",
    "            <a href=\"{{ url_for('admin.manage_consulting') }}\" class=\"btn btn-primary w-100\">Manage Consulting</a>\n",
    "        </div>\n",
    "        <div class=\"col-md-3\">\n",
    "            <a href=\"{{ url_for('admin.manage_exams') }}\" class=\"btn btn-primary w-100\">Manage Exams</a>\n",
    "        </div>\n",
    "    </div>\n",
    "-->"
   ]
  },
  {
   "cell_type": "code",
   "execution_count": null,
   "id": "86d96fcf-de6b-49d6-857b-4fea1222cc68",
   "metadata": {},
   "outputs": [],
   "source": []
  }
 ],
 "metadata": {
  "kernelspec": {
   "display_name": "Python 3 (ipykernel)",
   "language": "python",
   "name": "python3"
  },
  "language_info": {
   "codemirror_mode": {
    "name": "ipython",
    "version": 3
   },
   "file_extension": ".py",
   "mimetype": "text/x-python",
   "name": "python",
   "nbconvert_exporter": "python",
   "pygments_lexer": "ipython3",
   "version": "3.11.7"
  }
 },
 "nbformat": 4,
 "nbformat_minor": 5
}

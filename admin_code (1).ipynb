{
 "cells": [
  {
   "cell_type": "code",
   "execution_count": 11,
   "id": "c98b32d9-5454-4d0e-9db3-f8ce97687820",
   "metadata": {},
   "outputs": [
    {
     "name": "stdout",
     "output_type": "stream",
     "text": [
      "Collecting mysql-connector-python\n",
      "  Downloading mysql_connector_python-9.2.0-cp310-cp310-win_amd64.whl.metadata (6.2 kB)\n",
      "Downloading mysql_connector_python-9.2.0-cp310-cp310-win_amd64.whl (16.1 MB)\n",
      "   ---------------------------------------- 0.0/16.1 MB ? eta -:--:--\n",
      "   ---- ----------------------------------- 1.8/16.1 MB 10.1 MB/s eta 0:00:02\n",
      "   --------- ------------------------------ 3.7/16.1 MB 9.5 MB/s eta 0:00:02\n",
      "   ------------- -------------------------- 5.5/16.1 MB 9.3 MB/s eta 0:00:02\n",
      "   ------------------ --------------------- 7.3/16.1 MB 9.1 MB/s eta 0:00:01\n",
      "   ---------------------- ----------------- 9.2/16.1 MB 9.4 MB/s eta 0:00:01\n",
      "   ---------------------------- ----------- 11.3/16.1 MB 9.3 MB/s eta 0:00:01\n",
      "   ------------------------------- -------- 12.8/16.1 MB 9.1 MB/s eta 0:00:01\n",
      "   ------------------------------------- -- 14.9/16.1 MB 9.1 MB/s eta 0:00:01\n",
      "   ---------------------------------------- 16.1/16.1 MB 8.7 MB/s eta 0:00:00\n",
      "Installing collected packages: mysql-connector-python\n",
      "Successfully installed mysql-connector-python-9.2.0\n",
      "Note: you may need to restart the kernel to use updated packages.\n"
     ]
    }
   ],
   "source": [
    "##pip install mysql-connector-python"
   ]
  },
  {
   "cell_type": "code",
   "execution_count": 1,
   "id": "bc67233c-f473-4dc8-ad2a-c842473b07ed",
   "metadata": {},
   "outputs": [
    {
     "name": "stdout",
     "output_type": "stream",
     "text": [
      "Error: 1054 (42S22): Unknown column 'role' in 'field list'\n"
     ]
    }
   ],
   "source": [
    "import mysql.connector\n",
    "import bcrypt\n",
    "\n",
    "# MySQL connection details\n",
    "conn = mysql.connector.connect(\n",
    "    host=\"localhost\",\n",
    "    user=\"root\",\n",
    "    password=\"root\",\n",
    "    database=\"extraction\"\n",
    ")\n",
    "\n",
    "try:\n",
    "    # New admin details\n",
    "    username = \"admin\"\n",
    "    admin_password = \"admin\"\n",
    "    role = \"admin\"\n",
    "\n",
    "    # Hash the password\n",
    "    hashed_password = bcrypt.hashpw(admin_password.encode('utf-8'), bcrypt.gensalt()).decode('utf-8')\n",
    "\n",
    "    # Insert the admin record\n",
    "    cursor = conn.cursor()\n",
    "    query = \"\"\"\n",
    "    INSERT INTO admin (username, password, role, created_at)\n",
    "    VALUES (%s, %s, %s, NOW());\n",
    "    \"\"\"\n",
    "    cursor.execute(query, (username, hashed_password, role))\n",
    "    conn.commit()\n",
    "\n",
    "    print(f\"Admin {username} added successfully!\")\n",
    "\n",
    "except Exception as e:\n",
    "    print(f\"Error: {str(e)}\")\n",
    "finally:\n",
    "    conn.close()\n"
   ]
  },
  {
   "cell_type": "code",
   "execution_count": null,
   "id": "5da739bd-a7c6-47c1-adb0-473cdde0b98d",
   "metadata": {},
   "outputs": [],
   "source": []
  }
 ],
 "metadata": {
  "kernelspec": {
   "display_name": "Python 3 (ipykernel)",
   "language": "python",
   "name": "python3"
  },
  "language_info": {
   "codemirror_mode": {
    "name": "ipython",
    "version": 3
   },
   "file_extension": ".py",
   "mimetype": "text/x-python",
   "name": "python",
   "nbconvert_exporter": "python",
   "pygments_lexer": "ipython3",
   "version": "3.11.7"
  }
 },
 "nbformat": 4,
 "nbformat_minor": 5
}
